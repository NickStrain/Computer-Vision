{
 "cells": [
  {
   "cell_type": "code",
   "execution_count": 1,
   "metadata": {},
   "outputs": [],
   "source": [
    "import numpy as np\n",
    "import pandas as pd\n",
    "import matplotlib.pyplot as plt\n",
    "\n",
    "import torch \n",
    "import torch.nn as nn\n",
    "import torch.nn.functional as F \n",
    "import torchvision \n",
    "from torch.utils.data import Dataset,DataLoader\n"
   ]
  },
  {
   "cell_type": "code",
   "execution_count": 7,
   "metadata": {},
   "outputs": [],
   "source": [
    "transform = torchvision.transforms.Compose([torchvision.transforms.ToTensor()])\n",
    "\n",
    "train_data = torchvision.datasets.MNIST(root=\"~/torch_datasets\",train=True,transform = transform ,download=False)\n",
    "\n",
    "test_data = torchvision.datasets.MNIST(root=\"~/torch_datasets\",train=False,transform=transform,download=False)"
   ]
  },
  {
   "cell_type": "code",
   "execution_count": 8,
   "metadata": {},
   "outputs": [],
   "source": [
    "train_loader = torch.utils.data.DataLoader(train_data,batch_size=128,shuffle=True)\n",
    "\n",
    "test_loader = torch.utils.data.DataLoader(test_data,batch_size = 32,shuffle =False)\n"
   ]
  },
  {
   "attachments": {},
   "cell_type": "markdown",
   "metadata": {},
   "source": [
    "## Autoencoder"
   ]
  },
  {
   "cell_type": "code",
   "execution_count": 20,
   "metadata": {},
   "outputs": [],
   "source": [
    "class autoencoder(nn.Module):\n",
    "    def __init__(self,input_shape):\n",
    "        super().__init__()\n",
    "        self.encoder_hl = nn.Linear(input_shape,128)\n",
    "        self.encoder_output = nn.Linear(128,128)\n",
    "        \n",
    "        self.decoder_hl = nn.Linear(128,128)\n",
    "        self.decoder_output = nn.Linear(128,input_shape)\n",
    "        \n",
    "    def forward(self, x):\n",
    "        x = self.encoder_hl(x)\n",
    "        x = torch.relu(x)\n",
    "        x = self.encoder_output(x)\n",
    "        x = torch.relu(x)\n",
    "        \n",
    "        x = self.decoder_hl(x)\n",
    "        x = torch.relu(x)\n",
    "        x = self.decoder_output(x)\n",
    "        x = torch.relu(x)\n",
    "        \n",
    "        return x\n",
    "        \n",
    "device  = torch.device('cuda' if torch.cuda.is_available() else 'cpu')        "
   ]
  },
  {
   "cell_type": "code",
   "execution_count": 23,
   "metadata": {},
   "outputs": [],
   "source": [
    "model = autoencoder(784).to(device)\n",
    "optimizer = torch.optim.Adam(model.parameters(),lr=1e-3)\n",
    "epoch = 20\n",
    "loss_fn = nn.MSELoss()"
   ]
  },
  {
   "cell_type": "code",
   "execution_count": null,
   "metadata": {},
   "outputs": [],
   "source": [
    "for e in range(epoch):\n",
    "    loss = 0\n",
    "    for x,y in train_loader:\n",
    "        x  = x.view(-1,784).to(device)\n",
    "        optimizer.zero_grad()\n",
    "        \n",
    "        output = model(x)\n",
    "        \n",
    "        train_loss = loss_fn(output,y)\n",
    "        train_loss.backward()\n",
    "        optimizer.step()\n",
    "        loss += train_loss.item()\n",
    "        \n",
    "    loss = loss/len(train_loader)\n",
    "    \n",
    "    print(f'Epoch{e+1}/{epoch} loss = {loss}' )"
   ]
  },
  {
   "cell_type": "code",
   "execution_count": null,
   "metadata": {},
   "outputs": [],
   "source": []
  }
 ],
 "metadata": {
  "kernelspec": {
   "display_name": "Python 3",
   "language": "python",
   "name": "python3"
  },
  "language_info": {
   "codemirror_mode": {
    "name": "ipython",
    "version": 3
   },
   "file_extension": ".py",
   "mimetype": "text/x-python",
   "name": "python",
   "nbconvert_exporter": "python",
   "pygments_lexer": "ipython3",
   "version": "3.9.12"
  },
  "orig_nbformat": 4
 },
 "nbformat": 4,
 "nbformat_minor": 2
}
